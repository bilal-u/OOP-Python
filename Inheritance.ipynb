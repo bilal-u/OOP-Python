{
 "cells": [
  {
   "cell_type": "markdown",
   "metadata": {},
   "source": [
    "# Problem Statment: This is an assignment problem for CP1890 of Winter 2022 at CNA\n"
   ]
  },
  {
   "cell_type": "markdown",
   "metadata": {},
   "source": [
    "   \n",
    "<p>We have been tasked with creating a program to run an ATM. In this iteration of development, \n",
    "we are only concerned with creating the following functionality related to bank accounts:\n",
    "Specifically, we will have two types of accounts:\n",
    "<ol> \n",
    "  <li>Chequing account: \n",
    "    <ul> \n",
    "        <li> provides 3 free transactions per month  </li>\n",
    "        <li> additional transactions are charged a small fee ($2.00). </li> \n",
    "        <li> any balance does not provide interest </li> \n",
    "     </ul> \n",
    "  </li> \n",
    "    \n",
    "  <li>Savings account:\n",
    "    <ul>         \n",
    "        <li> earns interest (3%) on a monthly basis (note: we do not need to worry about \n",
    "timing here, we will just create an ability for the program to add interest)  </li>        \n",
    "     </ul>   \n",
    "  </li> \n",
    "</ol>   \n",
    "\n",
    "Both types of accounts share some common functionality:\n",
    "<ul> \n",
    "    <li> Should contain an attribute balance </li>\n",
    "    <li> Should have a constructor that creates a new bank account with a zero balance. </li>\n",
    "    <li> Contains a depositAmt method that accepts an amount to be deposited in the account </li>\n",
    "    <li> Contains a withdrawAmt method that accepts an amount to withdraw from the account </li>\n",
    "    <li> Contains a getBalance method that returns the current balance in the account. </li>\n",
    "\n",
    "</ul>   \n",
    "\n",
    "</p>\n",
    "\n",
    "In addition: \n",
    "<p> \n",
    "ChequingAccount:\n",
    "\n",
    "<ul> \n",
    "    <li> Should contain a attribute transactionCnt (to keep track of transactions) </li>\n",
    "    <li> Should override the depositAmt and withdrawAmt methods in order to increment the \n",
    "transaction count. </li>\n",
    "    <li> Contains a chargeFees method that will charge the transaction fee (if any) to the account \n",
    "for any transactions beyond the free transactions (assume that transfers or balance checks \n",
    "are free) </li>\n",
    "\n",
    "</ul>   \n",
    "\n",
    "SavingsAccount:\n",
    "<ul> \n",
    "<li> Should contain an attribute interestRate that holds the interest rate defined. (note that \n",
    "3% is equivalent to 0.03) </li>\n",
    "<li> Contains a changeInterest method that can be used to adjust the interest rate. </li>\n",
    "<li> Contains an addInterest method that adds the interest, as specified, to the account \n",
    "balance. To calculate the interest for the amount in the account you can use this formula: \n",
    "interestAmt = balance * interestRate / 100.00 </li>\n",
    "</ul>\n",
    "</p> "
   ]
  },
  {
   "cell_type": "markdown",
   "metadata": {},
   "source": []
  }
 ],
 "metadata": {
  "kernelspec": {
   "display_name": "Python 3",
   "language": "python",
   "name": "python3"
  },
  "language_info": {
   "codemirror_mode": {
    "name": "ipython",
    "version": 3
   },
   "file_extension": ".py",
   "mimetype": "text/x-python",
   "name": "python",
   "nbconvert_exporter": "python",
   "pygments_lexer": "ipython3",
   "version": "3.8.3"
  }
 },
 "nbformat": 4,
 "nbformat_minor": 4
}
